{
 "cells": [
  {
   "cell_type": "code",
   "execution_count": 4,
   "id": "23241f61",
   "metadata": {
    "scrolled": true
   },
   "outputs": [
    {
     "name": "stdout",
     "output_type": "stream",
     "text": [
      "                  hora  temperatura  humedad\n",
      "0  1644165435711000000         23.0     35.0\n",
      "1  1644165665533000000         23.0     35.0\n",
      "2  1644166028500000000         23.0     35.0\n",
      "3  1644166208318000000         23.0     35.0\n",
      "4  1644166387340000000         23.0     35.0\n"
     ]
    }
   ],
   "source": [
    "import pandas as pd\n",
    "import numpy as np\n",
    "clima = pd.read_csv('datos.csv',names=['hora', 'temperatura', 'humedad'])\n",
    "pd.set_option('mode.chained_assignment' ,None)\n",
    "for i in range(759):\n",
    "    clima.hora[i] = clima.hora[i][1:25]\n",
    "    \n",
    "clima['hora']= pd.to_datetime(clima['hora'])\n",
    "clima['hora']= pd.to_numeric(clima['hora'])\n",
    "print(clima.head())"
   ]
  },
  {
   "cell_type": "code",
   "execution_count": 5,
   "id": "0e7bd30d",
   "metadata": {},
   "outputs": [
    {
     "name": "stdout",
     "output_type": "stream",
     "text": [
      "                    hora  temperatura  humedad\n",
      "754  1644441817907000000         21.0     36.0\n",
      "755  1644442417910000000         21.0     36.0\n",
      "756  1644443018912000000         21.0     37.0\n",
      "757  1644443618415000000         21.0     37.0\n",
      "758  1644443812197000000         21.0     37.0\n"
     ]
    }
   ],
   "source": [
    "print(clima.tail())"
   ]
  },
  {
   "cell_type": "code",
   "execution_count": 20,
   "id": "0ca17bd5",
   "metadata": {},
   "outputs": [],
   "source": [
    "y = clima.humedad\n",
    "X = clima[['hora', 'temperatura']]"
   ]
  },
  {
   "cell_type": "code",
   "execution_count": 8,
   "id": "13e76e8b",
   "metadata": {
    "scrolled": false
   },
   "outputs": [
    {
     "data": {
      "text/plain": [
       "DecisionTreeRegressor(random_state=1)"
      ]
     },
     "execution_count": 8,
     "metadata": {},
     "output_type": "execute_result"
    }
   ],
   "source": [
    "from sklearn.tree import DecisionTreeRegressor as DTR\n",
    "modelo = DTR(random_state=1)\n",
    "modelo.fit(x, y)"
   ]
  },
  {
   "cell_type": "code",
   "execution_count": 12,
   "id": "d85636ac",
   "metadata": {
    "scrolled": true
   },
   "outputs": [
    {
     "name": "stdout",
     "output_type": "stream",
     "text": [
      "prediccion de humedad suponiendo que no tuvieramos ese dato, para las primeras 5 filas\n",
      "                  hora  temperatura\n",
      "0  1644165435711000000         23.0\n",
      "1  1644165665533000000         23.0\n",
      "2  1644166028500000000         23.0\n",
      "3  1644166208318000000         23.0\n",
      "4  1644166387340000000         23.0\n",
      "La prediccion es:\n"
     ]
    },
    {
     "ename": "AttributeError",
     "evalue": "'DecisionTreeRegressor' object has no attribute 'predic'",
     "output_type": "error",
     "traceback": [
      "\u001b[0;31m---------------------------------------------------------------------------\u001b[0m",
      "\u001b[0;31mAttributeError\u001b[0m                            Traceback (most recent call last)",
      "\u001b[0;32m/tmp/ipykernel_3681/2684061159.py\u001b[0m in \u001b[0;36m<module>\u001b[0;34m\u001b[0m\n\u001b[1;32m      2\u001b[0m \u001b[0mprint\u001b[0m\u001b[0;34m(\u001b[0m\u001b[0mx\u001b[0m\u001b[0;34m.\u001b[0m\u001b[0mhead\u001b[0m\u001b[0;34m(\u001b[0m\u001b[0;34m)\u001b[0m\u001b[0;34m)\u001b[0m\u001b[0;34m\u001b[0m\u001b[0;34m\u001b[0m\u001b[0m\n\u001b[1;32m      3\u001b[0m \u001b[0mprint\u001b[0m\u001b[0;34m(\u001b[0m\u001b[0;34m\"La prediccion es:\"\u001b[0m\u001b[0;34m)\u001b[0m\u001b[0;34m\u001b[0m\u001b[0;34m\u001b[0m\u001b[0m\n\u001b[0;32m----> 4\u001b[0;31m \u001b[0mprint\u001b[0m\u001b[0;34m(\u001b[0m\u001b[0mmodelo\u001b[0m\u001b[0;34m.\u001b[0m\u001b[0mpredic\u001b[0m\u001b[0;34m(\u001b[0m\u001b[0mx\u001b[0m\u001b[0;34m.\u001b[0m\u001b[0mhead\u001b[0m\u001b[0;34m(\u001b[0m\u001b[0;34m)\u001b[0m\u001b[0;34m)\u001b[0m\u001b[0;34m)\u001b[0m\u001b[0;34m\u001b[0m\u001b[0;34m\u001b[0m\u001b[0m\n\u001b[0m",
      "\u001b[0;31mAttributeError\u001b[0m: 'DecisionTreeRegressor' object has no attribute 'predic'"
     ]
    }
   ],
   "source": [
    "print(\"prediccion de humedad suponiendo que no tuvieramos ese dato, para las primeras 5 filas\")\n",
    "print(x.head())\n",
    "print(\"La prediccion es:\")\n",
    "print(modelo.predic(x.head()))"
   ]
  },
  {
   "cell_type": "code",
   "execution_count": 13,
   "id": "c877bd43",
   "metadata": {
    "scrolled": true
   },
   "outputs": [
    {
     "name": "stdout",
     "output_type": "stream",
     "text": [
      "prediccion de humedad suponiendo que no tuvieramos ese dato, para las primeras 5 filas\n",
      "                    hora  temperatura\n",
      "754  1644441817907000000         21.0\n",
      "755  1644442417910000000         21.0\n",
      "756  1644443018912000000         21.0\n",
      "757  1644443618415000000         21.0\n",
      "758  1644443812197000000         21.0\n",
      "La prediccion es:\n"
     ]
    },
    {
     "ename": "AttributeError",
     "evalue": "'DecisionTreeRegressor' object has no attribute 'predic'",
     "output_type": "error",
     "traceback": [
      "\u001b[0;31m---------------------------------------------------------------------------\u001b[0m",
      "\u001b[0;31mAttributeError\u001b[0m                            Traceback (most recent call last)",
      "\u001b[0;32m/tmp/ipykernel_3681/613402346.py\u001b[0m in \u001b[0;36m<module>\u001b[0;34m\u001b[0m\n\u001b[1;32m      2\u001b[0m \u001b[0mprint\u001b[0m\u001b[0;34m(\u001b[0m\u001b[0mx\u001b[0m\u001b[0;34m.\u001b[0m\u001b[0mtail\u001b[0m\u001b[0;34m(\u001b[0m\u001b[0;34m)\u001b[0m\u001b[0;34m)\u001b[0m\u001b[0;34m\u001b[0m\u001b[0;34m\u001b[0m\u001b[0m\n\u001b[1;32m      3\u001b[0m \u001b[0mprint\u001b[0m\u001b[0;34m(\u001b[0m\u001b[0;34m\"La prediccion es:\"\u001b[0m\u001b[0;34m)\u001b[0m\u001b[0;34m\u001b[0m\u001b[0;34m\u001b[0m\u001b[0m\n\u001b[0;32m----> 4\u001b[0;31m \u001b[0mprint\u001b[0m\u001b[0;34m(\u001b[0m\u001b[0mmodelo\u001b[0m\u001b[0;34m.\u001b[0m\u001b[0mpredic\u001b[0m\u001b[0;34m(\u001b[0m\u001b[0mx\u001b[0m\u001b[0;34m.\u001b[0m\u001b[0mtail\u001b[0m\u001b[0;34m(\u001b[0m\u001b[0;34m)\u001b[0m\u001b[0;34m)\u001b[0m\u001b[0;34m)\u001b[0m\u001b[0;34m\u001b[0m\u001b[0;34m\u001b[0m\u001b[0m\n\u001b[0m",
      "\u001b[0;31mAttributeError\u001b[0m: 'DecisionTreeRegressor' object has no attribute 'predic'"
     ]
    }
   ],
   "source": [
    "print(\"prediccion de humedad suponiendo que no tuvieramos ese dato, para las primeras 5 filas\")\n",
    "print(x.tail())\n",
    "print(\"La prediccion es:\")\n",
    "print(modelo.predic(x.tail()))"
   ]
  },
  {
   "cell_type": "code",
   "execution_count": 15,
   "id": "f933bc62",
   "metadata": {
    "scrolled": true
   },
   "outputs": [
    {
     "data": {
      "text/plain": [
       "0.0013175230566534915"
      ]
     },
     "execution_count": 15,
     "metadata": {},
     "output_type": "execute_result"
    }
   ],
   "source": [
    "from sklearn.metrics import mean_absolute_error as mae\n",
    "\n",
    "humedad_pred = modelo.predict(x)\n",
    "mae(y, humedad_pred)"
   ]
  },
  {
   "cell_type": "code",
   "execution_count": 22,
   "id": "5cfa93dc",
   "metadata": {},
   "outputs": [
    {
     "name": "stdout",
     "output_type": "stream",
     "text": [
      "0.21578947368421053\n"
     ]
    }
   ],
   "source": [
    "from sklearn.model_selection import train_test_split as traints\n",
    "\n",
    "train_X, val_X, train_y, val_y = traints(X, y, random_state = 0)\n",
    "\n",
    "modelo2 = DTR()\n",
    "\n",
    "modelo2.fit(train_X, train_y)\n",
    "\n",
    "val_predictions = modelo2.predict(val_X)\n",
    "print(mae(val_y, val_predictions))"
   ]
  }
 ],
 "metadata": {
  "kernelspec": {
   "display_name": "Python 3",
   "language": "python",
   "name": "python3"
  },
  "language_info": {
   "codemirror_mode": {
    "name": "ipython",
    "version": 3
   },
   "file_extension": ".py",
   "mimetype": "text/x-python",
   "name": "python",
   "nbconvert_exporter": "python",
   "pygments_lexer": "ipython3",
   "version": "3.8.8"
  }
 },
 "nbformat": 4,
 "nbformat_minor": 5
}
